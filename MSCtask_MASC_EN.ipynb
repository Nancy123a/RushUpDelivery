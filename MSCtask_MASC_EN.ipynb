{
  "nbformat": 4,
  "nbformat_minor": 0,
  "metadata": {
    "colab": {
      "name": "MSCtask-MASC-EN.ipynb",
      "provenance": [],
      "collapsed_sections": [],
      "toc_visible": true,
      "include_colab_link": true
    },
    "kernelspec": {
      "name": "python3",
      "display_name": "Python 3"
    }
  },
  "cells": [
    {
      "cell_type": "markdown",
      "metadata": {
        "id": "view-in-github",
        "colab_type": "text"
      },
      "source": [
        "<a href=\"https://colab.research.google.com/github/Nancy123a/RushUpDelivery/blob/master/MSCtask_MASC_EN.ipynb\" target=\"_parent\"><img src=\"https://colab.research.google.com/assets/colab-badge.svg\" alt=\"Open In Colab\"/></a>"
      ]
    },
    {
      "cell_type": "markdown",
      "metadata": {
        "id": "ltTnNb1lu9BB"
      },
      "source": [
        "<img align=\"left\" style=\"padding-right:10px;\" width=100, height=100, src=\"https://ldsl.rub.de/assets/images/brand/logo.svg\">\n",
        "<br></br>\n",
        "<br></br>\n",
        "\n",
        "# LDSL Winter school \n",
        "## Workshop: NN in Python\n"
      ]
    },
    {
      "cell_type": "markdown",
      "metadata": {
        "id": "n6O_YsmqvHbK"
      },
      "source": [
        "-----\n",
        "# Group task: Reimplementation of modal sense classification\n",
        "\n",
        "-----\n",
        "In this notebook we will implement a neural network for modal sense classification and try to adapt the architecture of a **convolutional neural** network as propsed in Germies (2020) and train, develop and test on a different data set. \n",
        "\n",
        "As a data set we will use a version of the MSC corpus collection tagged with modal sense classes for English modal verbs: *can, must, may, should* and *could*. \n",
        "\n",
        "The idea is that you work in your groups together on this task. You might use code from the notebook that we discussed in detail, but you will also find some help of what to do in this template for you. We don't want you to compete in this task against the other groups, but will meet to discuss the subtasks and exchange ideas and help each other.\n",
        "\n",
        "You should follow the general instructions on the task in this notebook, but we also don't want to limit your possibilities in achieving best results in this task. So there will be some decisions to make in your group and you SHOULD feel free to go beyond the instructions: try variants, make proposals for improvements, new ideas whatever occurs to you that might be relevant in this task. \n",
        "\n",
        "Overview: \n",
        "* Subtask I: Choose and load a dataset\n",
        "* Subtask II: Data exploration/visualisation\n",
        "* Subtask III: Choose Task specification\n",
        "* Subtask IV: Preprocessing\n",
        "* Subtask V: Defining model\n",
        "* Subtask VI: Training/validation and testing\n"
      ]
    },
    {
      "cell_type": "code",
      "metadata": {
        "id": "3hC1IEtNvfMx"
      },
      "source": [
        "# Some libraries we previously used and might need\n",
        "\n",
        "import os\n",
        "import sys\n",
        "import pandas as pd\n",
        "import numpy as np\n",
        "from numpy import array\n",
        "import string\n",
        "import glob\n",
        "import csv\n",
        "import re\n",
        "import matplotlib.pyplot as plt"
      ],
      "execution_count": null,
      "outputs": []
    },
    {
      "cell_type": "code",
      "metadata": {
        "id": "BLIdnEXunkPo",
        "colab": {
          "base_uri": "https://localhost:8080/"
        },
        "outputId": "62071030-fe14-47f6-9b22-57763ff28e2d"
      },
      "source": [
        "# Machine Learning Libraries\n",
        "\n",
        "%tensorflow_version 2.x # tensorflow magic, only to be used in google colab. comment out if using other editor/environment\n",
        "\n",
        "import tensorflow as tf\n",
        "from tensorflow.keras.models import Sequential, Model\n",
        "from tensorflow.keras.layers import Embedding, Conv1D, MaxPooling1D, GlobalMaxPooling1D, Flatten, Dense, Activation, Dropout, Input\n",
        "from tensorflow.keras.layers import concatenate\n",
        "from tensorflow.keras.utils import plot_model\n",
        "from tensorflow.keras.preprocessing.sequence import pad_sequences\n",
        "from tensorflow.keras.preprocessing.text import Tokenizer\n",
        "from keras.utils import to_categorical\n",
        "from tensorflow.keras.models import load_model\n",
        "from tensorflow.keras import optimizers, regularizers\n",
        "\n",
        "from sklearn.preprocessing import LabelEncoder\n",
        "from sklearn.preprocessing import OneHotEncoder\n",
        "from sklearn.model_selection import train_test_split"
      ],
      "execution_count": null,
      "outputs": [
        {
          "output_type": "stream",
          "text": [
            "`%tensorflow_version` only switches the major version: 1.x or 2.x.\n",
            "You set: `2.x # tensorflow magic, only to be used in google colab. comment out if using other editor/environment`. This will be interpreted as: `2.x`.\n",
            "\n",
            "\n",
            "TensorFlow 2.x selected.\n"
          ],
          "name": "stdout"
        }
      ]
    },
    {
      "cell_type": "markdown",
      "metadata": {
        "id": "I8t35tV-vggI"
      },
      "source": [
        "# Define overall task and subtasks\n",
        "\n",
        "Overall task: MSC is the task to decide which sense is appropriate for a modal verb in context. It is kind of a sense disambiguation task. The advantage of modal verbs is that the inventory of forms and senses is relatively fixed. Now you remember that Germies aimed at a **two class classification** into deontic and epistemic senses (dismissing dynamic ones).  \n",
        "\n",
        "---\n"
      ]
    },
    {
      "cell_type": "markdown",
      "metadata": {
        "id": "XIyFyYHNCIRh"
      },
      "source": [
        "## Subtask I\n",
        "**Choose and load a dataset**\n",
        "\n",
        "In the [MSC](https://doi.org/10.11588/data/JEESIQ) collection (Marasović, Zhou,& Frank 2019) there are three reported datasets: MASC, MPQA, EPOS-E. \n",
        "\n",
        "See distribution of available modality datasets in MSC collection for English (cf. Marosovic & Frank 2016):\n",
        "\n",
        "| corpus|class|can| could |may |must| should|\n",
        "|--|--|--|--|--|--|--|\n",
        "|MASC|ep| 88| 144| 217 |29 |27|\n",
        "|MASC|de| 72| 16 |43| 115| 224|\n",
        "|MASC|dy| 710| 251 |3 |-| –|\n",
        "|MPQA|ep|2|\t156|130|11|26|\n",
        "|MPQA|de|115|17|\t9\t|83|\t248|\n",
        "|MPQA|dy|271|\t67|\t–|\t–|\t–|\n",
        "|EPOS-E|ep|150|40|950\t|800\t|150|\n",
        "|EPOS-E|\tde|150|40\t|950|800|\t150|\n",
        "|EPOS-E|\tdy|150|40\t|-|\t–|–|\n",
        "\n",
        "If you download it, you will recognize that it actually contains only MASC data with available texts and labels; For MPQA and EPOS-E there are only files that include a reference to an id but not the texts.\n",
        "\n",
        "I managed to obtain the underlying EPOS-E data from here: https://github.com/amarasovic/modal-sense-classifcation/tree/master/data/EPOS_E.\n",
        "\n",
        "I then build a new dataset from MASC (several genres), EPOS-E (movie subtitles) and a heuristics.txt file included in their collection such that 5376 texts remained. Now this yielded more data, but these are now mixed from different corpora and you will not be able to compare it to the authors' datasets.  \n",
        "\n",
        " The labels are still uniform:\n",
        ">* dy: dynamic = capability \n",
        ">* ep: epistemic = possibility\n",
        ">* de: deontic = permission or obligation\n",
        "\n",
        "So you can now choose to use MASC (about ~ 1795 texts) or use my collection (~5376 texts) if you want to have more data.  I filtered out all duplicates and excluded 3 instances of an undocumented category 'other' and 9 instances of the modal verb *shall*.\n",
        "\n",
        "* OPTION I: MASC corpus from csv-file\n",
        "\n",
        "* OPTION II: Load collection from csv-file\n",
        "\n",
        "Regardless of the option you might take, we will have a representation in a pandas dataframe that contains the following information: sentence, modal tag of sense class and modal verb ('sent', 'mtag', 'mverb'). Note that information about the form of the modal verb was contained in the filenames! It means that the sense tag in the file only applies to this modal verb. But still we might keep in mind that there may be sentences with more than one modal verb in our data. I kept the information about individual modal verbs, but you might drop it later. Germies made subsets for each modal verb to evaluate them in the end, but that's optional.\n",
        "\n",
        "Example:\n",
        "\n",
        "|index|sent \t|mtag| \tmverb|\n",
        "|---|----|---|----|\n",
        "|0 | But that 's the reason why I had asked if we c... |\tdy| \tcould|\n",
        "|1 |\tAs a result of that , Mr. Barna and I have spe...| \tdy| \tcould|\n",
        "|2 |\tSo that raises an issue for us because clearly...| \tdy| \tcould|\n"
      ]
    },
    {
      "cell_type": "code",
      "metadata": {
        "id": "fWkYhGJ0vSZt",
        "colab": {
          "base_uri": "https://localhost:8080/"
        },
        "outputId": "d6443ecd-9254-4472-fccc-7c58511439fb"
      },
      "source": [
        "# mount drive\n",
        "from google.colab import drive\n",
        "drive.mount(\"/content/drive\")"
      ],
      "execution_count": null,
      "outputs": [
        {
          "output_type": "stream",
          "text": [
            "Drive already mounted at /content/drive; to attempt to forcibly remount, call drive.mount(\"/content/drive\", force_remount=True).\n"
          ],
          "name": "stdout"
        }
      ]
    },
    {
      "cell_type": "code",
      "metadata": {
        "id": "XF426-OfC1mn"
      },
      "source": [
        "# load csv files\n",
        "# filepath MASC: /content/drive/MyDrive/Workshop_NN_in_Python/MSC/masc_data.csv\n",
        "# filepath collection: /content/drive/MyDrive/Workshop_NN_in_Python/MSC/all_my_msc.csv\n",
        "data_loaded = pd.read_csv(filepath_or_buffer=\"/content/drive/MyDrive/all_my_msc.csv\", sep=',', encoding=\"utf8\")\n",
        "data_loaded_original = data_loaded\n"
      ],
      "execution_count": null,
      "outputs": []
    },
    {
      "cell_type": "markdown",
      "metadata": {
        "id": "U6VHTEUvO_Zl"
      },
      "source": [
        "## Subtask II \n",
        "**Data exploration/Visualization**\n",
        "\n",
        "Write a function and/or use plots to explore the data distribution for modal tags, modal verbs and for modal tags across modal verbs.\n",
        "* Think about the balancedness of data sets and what options for classification you have.\n",
        "* Think about decisions on cleaning during your explorations and collect ideas about possible options.\n",
        "\n",
        "---\n",
        "\n",
        "Some hints or ideas for cleaning that you might consider for later preprocessing:\n",
        "- Pay attention that there might be different kind of contraction forms in the data *I 'm, could n't*. Think about what would happen if you only keep alphabet characters. \n",
        "- We might expand the contractions and want to preserve information about the negation of modals, because it might interact with certain modal senses, we dont know, but it could help. \n",
        "- During qualification task some noted in the text there are variants of *ca n't* etc. that we could normalize."
      ]
    },
    {
      "cell_type": "code",
      "metadata": {
        "id": "jUldAU2Vseik"
      },
      "source": [
        "import seaborn as sns"
      ],
      "execution_count": null,
      "outputs": []
    },
    {
      "cell_type": "code",
      "metadata": {
        "id": "4rGi8D_AvKce",
        "colab": {
          "base_uri": "https://localhost:8080/"
        },
        "outputId": "6f1bcfd4-32df-421c-f9a4-42314772155c"
      },
      "source": [
        "\"\"\"Takes a data frame and returns another data frame where values are counted according to their attributes\"\"\"\n",
        "modals = pd.pivot_table(data_loaded[[\"mtag\", \"mverb\"]], \n",
        "                        values=\"mverb\",  # selects only one set of values (otherwise it would be two)\n",
        "                        index=\"mtag\",  # row index\n",
        "                        columns =\"mverb\",\n",
        "                        aggfunc=lambda x: x.count(),  # creates lambda function which counts occurrences\n",
        "                        fill_value=0)  # NA will be replaced by zero\n",
        "print(modals)\n"
      ],
      "execution_count": null,
      "outputs": [
        {
          "output_type": "stream",
          "text": [
            "mverb   can  could   may  must  should\n",
            "mtag                                  \n",
            "de      189     56   181   686     565\n",
            "dy     1032    343     3     0       0\n",
            "ep       96    306  1189   677      53\n"
          ],
          "name": "stdout"
        }
      ]
    },
    {
      "cell_type": "code",
      "metadata": {
        "colab": {
          "base_uri": "https://localhost:8080/",
          "height": 352
        },
        "id": "X5-QWMnboX1S",
        "outputId": "5e82931a-2048-4602-d8aa-0a573bea0730"
      },
      "source": [
        "sns.countplot(data_loaded['mverb'])"
      ],
      "execution_count": null,
      "outputs": [
        {
          "output_type": "stream",
          "text": [
            "/usr/local/lib/python3.7/dist-packages/seaborn/_decorators.py:43: FutureWarning: Pass the following variable as a keyword arg: x. From version 0.12, the only valid positional argument will be `data`, and passing other arguments without an explicit keyword will result in an error or misinterpretation.\n",
            "  FutureWarning\n"
          ],
          "name": "stderr"
        },
        {
          "output_type": "execute_result",
          "data": {
            "text/plain": [
              "<matplotlib.axes._subplots.AxesSubplot at 0x7f9aaef60150>"
            ]
          },
          "metadata": {
            "tags": []
          },
          "execution_count": 8
        },
        {
          "output_type": "display_data",
          "data": {
            "image/png": "[encoded data removed]",
            "text/plain": [
              "<Figure size 432x288 with 1 Axes>"
            ]
          },
          "metadata": {
            "tags": [],
            "needs_background": "light"
          }
        }
      ]
    },
    {
      "cell_type": "code",
      "metadata": {
        "colab": {
          "base_uri": "https://localhost:8080/",
          "height": 606
        },
        "id": "gav6xt2RsdWL",
        "outputId": "1757d984-258f-4f94-c98e-61517cc69da1"
      },
      "source": [
        "modals.plot(kind=\"barh\", subplots=True, figsize=(8,8))\n"
      ],
      "execution_count": null,
      "outputs": [
        {
          "output_type": "execute_result",
          "data": {
            "text/plain": [
              "array([<matplotlib.axes._subplots.AxesSubplot object at 0x7f9aae1bae50>,\n",
              "       <matplotlib.axes._subplots.AxesSubplot object at 0x7f9aae16c210>,\n",
              "       <matplotlib.axes._subplots.AxesSubplot object at 0x7f9aae1baad0>,\n",
              "       <matplotlib.axes._subplots.AxesSubplot object at 0x7f9aae15a990>,\n",
              "       <matplotlib.axes._subplots.AxesSubplot object at 0x7f9aae113d50>],\n",
              "      dtype=object)"
            ]
          },
          "metadata": {
            "tags": []
          },
          "execution_count": 9
        },
        {
          "output_type": "display_data",
          "data": {
            "image/png": "[encoded data removed]",
            "text/plain": [
              "<Figure size 576x576 with 5 Axes>"
            ]
          },
          "metadata": {
            "tags": [],
            "needs_background": "light"
          }
        }
      ]
    },
    {
      "cell_type": "code",
      "metadata": {
        "colab": {
          "base_uri": "https://localhost:8080/"
        },
        "id": "tUhDk33uubCb",
        "outputId": "c87f8f96-3949-4e6d-c6aa-2dddbae656f9"
      },
      "source": [
        "# Determine max / mean sentence length\n",
        "x = [len(s.split()) for s in data_loaded['sent']]\n",
        "max_len = max(x)\n",
        "mean_len = np.mean(x)\n",
        "print('max length: %d' %max_len)\n",
        "print('mean length: %d' %mean_len)"
      ],
      "execution_count": null,
      "outputs": [
        {
          "output_type": "stream",
          "text": [
            "max length: 80\n",
            "mean length: 21\n"
          ],
          "name": "stdout"
        }
      ]
    },
    {
      "cell_type": "markdown",
      "metadata": {
        "id": "WdvKeOlwDywK"
      },
      "source": [
        "## Subtask III\n",
        "**Task specification**\n",
        "\n",
        "Consider that options you have and write down the classification task you aim at. \n",
        "\n"
      ]
    },
    {
      "cell_type": "markdown",
      "metadata": {
        "id": "MomRVZ74tXMJ"
      },
      "source": [
        "Classification of semantic function of modal verbs in epistemic, dynamic or deontic function for the modal verbs \"can\", \"could\", \"may\", \"must\", \"should\".\n",
        "\n",
        "\n"
      ]
    },
    {
      "cell_type": "markdown",
      "metadata": {
        "id": "pZOjQNBoR8Y9"
      },
      "source": [
        "## Subtask IV\n",
        "**Preprocessing**\n",
        "\n",
        "There are severals steps of preprocessing to take into account. I will list a few and you should discuss in which order to apply them makes most sense to you. \n",
        "\n",
        "* Cleaning according to your ideas in the previous step\n",
        "* Split text (X) and labels/modal tags (Y)\n",
        "* You should necessarily at some point arrive at a train/validate/test split of your data set. You can import the function `from sklearn.model_selection import train_test_split` (cf. [docu](https://scikit-learn.org/stable/modules/generated/sklearn.model_selection.train_test_split.html)). If you have very imbalanced data, you could take the parameter `stratify=y` into account. \n",
        "* Convince yourself that portions and shapes of your data are correct.\n",
        "* It's optional to make sub sets for individual modal verbs and train and evaluate separately in comparison to complete dataset. \n",
        "* It may be necessary to convert your data to numpy arrays.\n",
        "* Reuse Germies' (2020) functions or use similar functions for getting English word embeddings. You can use e.g. Flairs embeddings: 'en-crawl'. \n",
        "* Consider text length and use padding.\n",
        "* Convert the modal sense labels to one-hot-vectors. \n",
        "\n",
        "After preprocessing, your data must be ready to be fed into the model."
      ]
    },
    {
      "cell_type": "markdown",
      "metadata": {
        "id": "UF0KH6acdD8g"
      },
      "source": [
        "Handling of the following regular expresions when contractions are found:\n",
        "  *   \"ca n't\"\n",
        "  *   \"couldn ’ t\"\n",
        "  *   \"could n't\"\n",
        "  *   \"should n't\"\n",
        "  *   \"must n't\""
      ]
    },
    {
      "cell_type": "code",
      "metadata": {
        "colab": {
          "base_uri": "https://localhost:8080/"
        },
        "id": "HwtgRPcgiibc",
        "outputId": "f4bd0039-47fd-4411-982f-4e0faecea5bb"
      },
      "source": [
        "# working method\n",
        "import re\n",
        "pattern = r\"c ?a ?n ?'t|could ?n ?'t|should ?n ?'t|must ?n ?'t\" \n",
        "for id,sentence in enumerate(data_loaded['sent']):\n",
        "  modals=re.findall(pattern, sentence)\n",
        "  if len(modals)>0:\n",
        "    for modalverb in modals:\n",
        "      if re.match(\"c ?a ?n ?'t\", modalverb):\n",
        "        data_loaded['sent'][id] = sentence.replace(modalverb,modalverb.replace(\" \",\"\").replace(\"n't\",\"n not\"))\n",
        "      else:\n",
        "        data_loaded['sent'][id] = sentence.replace(modalverb,modalverb.replace(\" \",\"\").replace(\"n't\",\" not\"))\n",
        "\n"
      ],
      "execution_count": null,
      "outputs": [
        {
          "output_type": "stream",
          "text": [
            "may     1373\n",
            "must    1363\n",
            "can     1317\n",
            "Name: mverb, dtype: int64\n",
            "1323\n"
          ],
          "name": "stdout"
        }
      ]
    },
    {
      "cell_type": "code",
      "metadata": {
        "id": "KZUTnoTS0W5n"
      },
      "source": [
        "# Negations handling\n",
        "\n",
        "negations = [\"ca n't\", \"couldn ’ t\", \"could n't\", \"should n't\", \"must n't\"]\n",
        "replacements = [\"can not\", \"could not\", \"could not\", \"should not\", \"must not\"]\n",
        "\n",
        "for id, sentence in enumerate(data_loaded['sent']):\n",
        "  for index, neg in enumerate(negations):\n",
        "    if (sentence.find(neg) != -1):\n",
        "      data_loaded['sent'][id] = sentence.replace(neg, replacements[index])\n"
      ],
      "execution_count": null,
      "outputs": []
    },
    {
      "cell_type": "code",
      "metadata": {
        "id": "6BNDkQEspIUE"
      },
      "source": [
        "# Split training / test data\n",
        "X_train, X_test, y_train, y_test = train_test_split(data_loaded['sent'], data_loaded['mtag'], test_size = 0.2, random_state= 42)\n",
        "\n",
        "# Split training /validation data\n",
        "x_train, x_val, y_train, y_val = train_test_split(X_train, y_train, test_size = 0.2, random_state= 42)\n",
        "\n"
      ],
      "execution_count": null,
      "outputs": []
    },
    {
      "cell_type": "code",
      "metadata": {
        "id": "aEFW9V3pv67M"
      },
      "source": [
        "# Converting to numpy arrays\n",
        "\n",
        "X_test = np.array(X_test)\n",
        "y_test = np.array(y_test)\n",
        "x_train = np.array(x_train)\n",
        "x_val = np.array(x_val)\n",
        "y_train = np.array(y_train)\n",
        "y_val = np.array(y_val)\n"
      ],
      "execution_count": null,
      "outputs": []
    },
    {
      "cell_type": "code",
      "metadata": {
        "colab": {
          "base_uri": "https://localhost:8080/"
        },
        "id": "pZYVY4Hv5lvb",
        "outputId": "33cbca3c-bcf5-44d8-c93b-f760aac91ddd"
      },
      "source": [
        "x_train.shape"
      ],
      "execution_count": null,
      "outputs": [
        {
          "output_type": "execute_result",
          "data": {
            "text/plain": [
              "(3440,)"
            ]
          },
          "metadata": {
            "tags": []
          },
          "execution_count": 48
        }
      ]
    },
    {
      "cell_type": "code",
      "metadata": {
        "id": "21rKiTvgc7co",
        "colab": {
          "base_uri": "https://localhost:8080/"
        },
        "outputId": "41dcc8a2-5427-4ef1-ecd2-4ddfb6bfca19"
      },
      "source": [
        "# cf. Germies (2020) code and modify in case you need\n",
        "# Encode Texts into Word Embeddings\n",
        "\n",
        "# Flair Word Embeddings\n",
        "!pip install flair\n",
        "from flair.embeddings import WordEmbeddings\n",
        "from flair.data import Sentence\n",
        "\n",
        "def embed_x(cleanTexts):\n",
        "  embeddings = WordEmbeddings('en-crawl') # load Flair embeddings\n",
        "  embeddedSents = []\n",
        "  for text in cleanTexts:\n",
        "    sent = Sentence(text)\n",
        "    # transform each sentence into word vector sequence\n",
        "    embeddings.embed(sent) \n",
        "    embeddedSents.append([t.embedding.numpy() for t in sent])\n",
        "  return embeddedSents\n",
        "\n",
        "# Padding\n",
        "\n",
        "def pad_x(embeddedSents):\n",
        "  #200 pad embeddings to have same length\n",
        "  padded = pad_sequences(embeddedSents, padding= 'post', dtype='float32', truncating = 'post', maxlen = 100)\n",
        "  return padded\n",
        "\n",
        "# Note: Max Length for the Dataset is a Number of 100 Words per Sequence Punctuation and other Symbols excluded"
      ],
      "execution_count": null,
      "outputs": [
        {
          "output_type": "stream",
          "text": [
            "Requirement already satisfied: flair in /usr/local/lib/python3.7/dist-packages (0.7)\n",
            "Requirement already satisfied: tabulate in /usr/local/lib/python3.7/dist-packages (from flair) (0.8.8)\n",
            "Requirement already satisfied: hyperopt>=0.1.1 in /usr/local/lib/python3.7/dist-packages (from flair) (0.1.2)\n",
            "Requirement already satisfied: gensim<=3.8.3,>=3.4.0 in /usr/local/lib/python3.7/dist-packages (from flair) (3.6.0)\n",
            "Requirement already satisfied: regex in /usr/local/lib/python3.7/dist-packages (from flair) (2019.12.20)\n",
            "Requirement already satisfied: transformers<=3.5.1,>=3.5.0 in /usr/local/lib/python3.7/dist-packages (from flair) (3.5.1)\n",
            "Requirement already satisfied: gdown in /usr/local/lib/python3.7/dist-packages (from flair) (3.6.4)\n",
            "Requirement already satisfied: python-dateutil>=2.6.1 in /usr/local/lib/python3.7/dist-packages (from flair) (2.8.1)\n",
            "Requirement already satisfied: matplotlib>=2.2.3 in /usr/local/lib/python3.7/dist-packages (from flair) (3.2.2)\n",
            "Requirement already satisfied: torch>=1.1.0 in /usr/local/lib/python3.7/dist-packages (from flair) (1.7.0+cu101)\n",
            "Requirement already satisfied: deprecated>=1.2.4 in /usr/local/lib/python3.7/dist-packages (from flair) (1.2.11)\n",
            "Requirement already satisfied: scikit-learn>=0.21.3 in /usr/local/lib/python3.7/dist-packages (from flair) (0.22.2.post1)\n",
            "Requirement already satisfied: mpld3==0.3 in /usr/local/lib/python3.7/dist-packages (from flair) (0.3)\n",
            "Requirement already satisfied: janome in /usr/local/lib/python3.7/dist-packages (from flair) (0.4.1)\n",
            "Requirement already satisfied: bpemb>=0.3.2 in /usr/local/lib/python3.7/dist-packages (from flair) (0.3.2)\n",
            "Requirement already satisfied: langdetect in /usr/local/lib/python3.7/dist-packages (from flair) (1.0.8)\n",
            "Requirement already satisfied: sentencepiece<=0.1.91 in /usr/local/lib/python3.7/dist-packages (from flair) (0.1.91)\n",
            "Requirement already satisfied: konoha<5.0.0,>=4.0.0 in /usr/local/lib/python3.7/dist-packages (from flair) (4.6.2)\n",
            "Requirement already satisfied: sqlitedict>=1.6.0 in /usr/local/lib/python3.7/dist-packages (from flair) (1.7.0)\n",
            "Requirement already satisfied: ftfy in /usr/local/lib/python3.7/dist-packages (from flair) (5.9)\n",
            "Requirement already satisfied: tqdm>=4.26.0 in /usr/local/lib/python3.7/dist-packages (from flair) (4.41.1)\n",
            "Requirement already satisfied: segtok>=1.5.7 in /usr/local/lib/python3.7/dist-packages (from flair) (1.5.10)\n",
            "Requirement already satisfied: lxml in /usr/local/lib/python3.7/dist-packages (from flair) (4.2.6)\n",
            "Requirement already satisfied: future in /usr/local/lib/python3.7/dist-packages (from hyperopt>=0.1.1->flair) (0.16.0)\n",
            "Requirement already satisfied: numpy in /usr/local/lib/python3.7/dist-packages (from hyperopt>=0.1.1->flair) (1.19.5)\n",
            "Requirement already satisfied: pymongo in /usr/local/lib/python3.7/dist-packages (from hyperopt>=0.1.1->flair) (3.11.3)\n",
            "Requirement already satisfied: scipy in /usr/local/lib/python3.7/dist-packages (from hyperopt>=0.1.1->flair) (1.4.1)\n",
            "Requirement already satisfied: networkx in /usr/local/lib/python3.7/dist-packages (from hyperopt>=0.1.1->flair) (2.5)\n",
            "Requirement already satisfied: six in /usr/local/lib/python3.7/dist-packages (from hyperopt>=0.1.1->flair) (1.15.0)\n",
            "Requirement already satisfied: smart-open>=1.2.1 in /usr/local/lib/python3.7/dist-packages (from gensim<=3.8.3,>=3.4.0->flair) (4.2.0)\n",
            "Requirement already satisfied: sacremoses in /usr/local/lib/python3.7/dist-packages (from transformers<=3.5.1,>=3.5.0->flair) (0.0.43)\n",
            "Requirement already satisfied: packaging in /usr/local/lib/python3.7/dist-packages (from transformers<=3.5.1,>=3.5.0->flair) (20.9)\n",
            "Requirement already satisfied: filelock in /usr/local/lib/python3.7/dist-packages (from transformers<=3.5.1,>=3.5.0->flair) (3.0.12)\n",
            "Requirement already satisfied: protobuf in /usr/local/lib/python3.7/dist-packages (from transformers<=3.5.1,>=3.5.0->flair) (3.12.4)\n",
            "Requirement already satisfied: requests in /usr/local/lib/python3.7/dist-packages (from transformers<=3.5.1,>=3.5.0->flair) (2.23.0)\n",
            "Requirement already satisfied: tokenizers==0.9.3 in /usr/local/lib/python3.7/dist-packages (from transformers<=3.5.1,>=3.5.0->flair) (0.9.3)\n",
            "Requirement already satisfied: cycler>=0.10 in /usr/local/lib/python3.7/dist-packages (from matplotlib>=2.2.3->flair) (0.10.0)\n",
            "Requirement already satisfied: kiwisolver>=1.0.1 in /usr/local/lib/python3.7/dist-packages (from matplotlib>=2.2.3->flair) (1.3.1)\n",
            "Requirement already satisfied: pyparsing!=2.0.4,!=2.1.2,!=2.1.6,>=2.0.1 in /usr/local/lib/python3.7/dist-packages (from matplotlib>=2.2.3->flair) (2.4.7)\n",
            "Requirement already satisfied: dataclasses in /usr/local/lib/python3.7/dist-packages (from torch>=1.1.0->flair) (0.6)\n",
            "Requirement already satisfied: typing-extensions in /usr/local/lib/python3.7/dist-packages (from torch>=1.1.0->flair) (3.7.4.3)\n",
            "Requirement already satisfied: wrapt<2,>=1.10 in /usr/local/lib/python3.7/dist-packages (from deprecated>=1.2.4->flair) (1.12.1)\n",
            "Requirement already satisfied: joblib>=0.11 in /usr/local/lib/python3.7/dist-packages (from scikit-learn>=0.21.3->flair) (1.0.1)\n",
            "Requirement already satisfied: overrides==3.0.0 in /usr/local/lib/python3.7/dist-packages (from konoha<5.0.0,>=4.0.0->flair) (3.0.0)\n",
            "Requirement already satisfied: wcwidth in /usr/local/lib/python3.7/dist-packages (from ftfy->flair) (0.2.5)\n",
            "Requirement already satisfied: decorator>=4.3.0 in /usr/local/lib/python3.7/dist-packages (from networkx->hyperopt>=0.1.1->flair) (4.4.2)\n",
            "Requirement already satisfied: click in /usr/local/lib/python3.7/dist-packages (from sacremoses->transformers<=3.5.1,>=3.5.0->flair) (7.1.2)\n",
            "Requirement already satisfied: setuptools in /usr/local/lib/python3.7/dist-packages (from protobuf->transformers<=3.5.1,>=3.5.0->flair) (53.0.0)\n",
            "Requirement already satisfied: chardet<4,>=3.0.2 in /usr/local/lib/python3.7/dist-packages (from requests->transformers<=3.5.1,>=3.5.0->flair) (3.0.4)\n",
            "Requirement already satisfied: idna<3,>=2.5 in /usr/local/lib/python3.7/dist-packages (from requests->transformers<=3.5.1,>=3.5.0->flair) (2.10)\n",
            "Requirement already satisfied: certifi>=2017.4.17 in /usr/local/lib/python3.7/dist-packages (from requests->transformers<=3.5.1,>=3.5.0->flair) (2020.12.5)\n",
            "Requirement already satisfied: urllib3!=1.25.0,!=1.25.1,<1.26,>=1.21.1 in /usr/local/lib/python3.7/dist-packages (from requests->transformers<=3.5.1,>=3.5.0->flair) (1.24.3)\n"
          ],
          "name": "stdout"
        }
      ]
    },
    {
      "cell_type": "code",
      "metadata": {
        "id": "fqDyfqKyxMiA"
      },
      "source": [
        "# Encode Labels into Categorical One-Hot Vectors\n",
        "\n",
        "def encode_y(labels):\n",
        "  label_encoder = LabelEncoder()\n",
        "  # transform string labels into integers\n",
        "  int_encoded = label_encoder.fit_transform(labels) \n",
        "  # transform integers into n-dimensional one-hot encodings\n",
        "  onehot_encoded = to_categorical(array(int_encoded)) \n",
        "  return onehot_encoded"
      ],
      "execution_count": null,
      "outputs": []
    },
    {
      "cell_type": "code",
      "metadata": {
        "id": "ZNiRSUnIzSGJ"
      },
      "source": [
        "# Remove Punctuation Marks and Symbols from Texts\n",
        "\n",
        "def clean_x(texts):\n",
        "  cleanTexts = []\n",
        "  for sent in texts:\n",
        "    #remove punctuation, integer and other symbols\n",
        "    stripped = [w for w in sent.split() if w.isalpha()] \n",
        "    # join the remaining alphabet characters with whitespace\n",
        "    stripped = ' '.join(stripped)\n",
        "    cleanTexts.append(stripped)\n",
        "  return cleanTexts"
      ],
      "execution_count": null,
      "outputs": []
    },
    {
      "cell_type": "code",
      "metadata": {
        "id": "hBdFwXMCyauQ"
      },
      "source": [
        "# Process Train Set \n",
        "\n",
        "# Text Sequences\n",
        "X_texts = x_train\n",
        "X_clean = clean_x(X_texts) # embed texts\n",
        "X_emb = embed_x(X_clean)\n",
        "X_train = pad_x(X_emb) # pad texts\n",
        "\n",
        "# Labels\n",
        "Y_train = encode_y(y_train)"
      ],
      "execution_count": null,
      "outputs": []
    },
    {
      "cell_type": "code",
      "metadata": {
        "id": "f4yJDEKEyySV"
      },
      "source": [
        "# Process Validation Set \n",
        "\n",
        "# Text Sequences\n",
        "x_texts = x_val\n",
        "x_clean = clean_x(x_texts) #texts\n",
        "x_emb = embed_x(x_clean)\n",
        "x_val = pad_x(x_emb)\n",
        "\n",
        "# Labels\n",
        "y_val = encode_y(y_val)"
      ],
      "execution_count": null,
      "outputs": []
    },
    {
      "cell_type": "code",
      "metadata": {
        "id": "ApnYV1RZxip4"
      },
      "source": [
        "# Process Test Set \n",
        "\n",
        "# Text Sequences\n",
        "x_texts = X_test\n",
        "x_clean = clean_x(x_texts) #texts\n",
        "x_emb = embed_x(x_clean)\n",
        "x_test = pad_x(x_emb)\n",
        "\n",
        "# Labels\n",
        "y_test = encode_y(y_test)"
      ],
      "execution_count": null,
      "outputs": []
    },
    {
      "cell_type": "code",
      "metadata": {
        "colab": {
          "base_uri": "https://localhost:8080/"
        },
        "id": "VS8cP6ZT8Gps",
        "outputId": "45864114-d638-4c33-de94-3212220508ae"
      },
      "source": [
        "print(Y_train.shape)\n",
        "print(X_train.shape)"
      ],
      "execution_count": null,
      "outputs": [
        {
          "output_type": "stream",
          "text": [
            "(3440, 3)\n",
            "(3440, 100, 300)\n"
          ],
          "name": "stdout"
        }
      ]
    },
    {
      "cell_type": "markdown",
      "metadata": {
        "id": "mgOX9-OoWHNl"
      },
      "source": [
        "## Subtask V\n",
        "\n",
        "**Defining Model** \n",
        "\n",
        "* Modify Germies' model below where you would need to.\n",
        "* Check input shape and output shape.\n",
        "* Check recommended activation function in the last layer such that it matches your classification task. \n",
        "* Select recommended loss function depending on the classification task you chose."
      ]
    },
    {
      "cell_type": "code",
      "metadata": {
        "id": "PUWyu-sJFsfL"
      },
      "source": [
        "# Define One-Layer Multi-Channel Architecture\n",
        "\n",
        "def define_model(length, dims): #sequence length, vocab size/embedding dims\n",
        "  # channel 1\n",
        "  inputs1 = Input(shape=(length, dims))\n",
        "  conv1 = Conv1D(filters = 128, kernel_size = 4, activation = 'relu', activity_regularizer=regularizers.l2(0.001))(inputs1)#(embedding1) #filter size 4\n",
        "  drop1 = Dropout(0.5)(conv1) # higher drop out = slower and more consistent learning\n",
        "  pool1 = MaxPooling1D(pool_size = 2)(drop1)\n",
        "  flat1 = Flatten()(pool1)\n",
        "  # channel 2\n",
        "  inputs2 = Input(shape=(length, dims))\n",
        "  conv2 = Conv1D(filters = 128, kernel_size = 6, activation = 'relu', activity_regularizer=regularizers.l2(0.001))(inputs2)#(embedding2) #filter size 6\n",
        "  drop2 = Dropout(0.5)(conv2)\n",
        "  pool2 = MaxPooling1D(pool_size = 2)(drop2)\n",
        "  flat2 = Flatten()(pool2)\n",
        "  # channel 3\n",
        "  inputs3 = Input(shape=(length, dims))\n",
        "  conv3 = Conv1D(filters = 128, kernel_size = 8, activation = 'relu', activity_regularizer=regularizers.l2(0.001))(inputs3) #(embedding3) #filter size 8\n",
        "  drop3 = Dropout(0.5)(conv3)\n",
        "  pool3 = MaxPooling1D(pool_size = 2)(drop3)\n",
        "  flat3 = Flatten()(pool3)\n",
        "  # merge layer\n",
        "  merged = concatenate([flat1, flat2, flat3])\n",
        "  dense1 = Dense(10, activation = 'relu', activity_regularizer=regularizers.l2(0.001))(merged) #reg!\n",
        "  outputs = Dense(3, activation = 'softmax', activity_regularizer=regularizers.l2(0.001))(dense1) # regularizer slows down learning\n",
        "  model = Model(inputs = [inputs1, inputs2, inputs3], outputs  = outputs)\n",
        "  # compile\n",
        "  model.compile(loss = 'categorical_crossentropy', optimizer = optimizers.Adam(learning_rate = 0.001), metrics = ['accuracy']) #0.0001 lower lr to counteract fast overfitting\n",
        "  # summary \n",
        "  print(model.summary())\n",
        "\n",
        "  return model"
      ],
      "execution_count": null,
      "outputs": []
    },
    {
      "cell_type": "code",
      "metadata": {
        "id": "VVTXdSqLeYum",
        "colab": {
          "base_uri": "https://localhost:8080/"
        },
        "outputId": "36fb586c-cd1b-4da3-ab0d-d5336f5f364b"
      },
      "source": [
        "model = define_model(100, 300) #95, 300"
      ],
      "execution_count": null,
      "outputs": [
        {
          "output_type": "stream",
          "text": [
            "Model: \"model_10\"\n",
            "__________________________________________________________________________________________________\n",
            "Layer (type)                    Output Shape         Param #     Connected to                     \n",
            "==================================================================================================\n",
            "input_33 (InputLayer)           [(None, 100, 300)]   0                                            \n",
            "__________________________________________________________________________________________________\n",
            "input_34 (InputLayer)           [(None, 100, 300)]   0                                            \n",
            "__________________________________________________________________________________________________\n",
            "input_35 (InputLayer)           [(None, 100, 300)]   0                                            \n",
            "__________________________________________________________________________________________________\n",
            "conv1d_32 (Conv1D)              (None, 97, 128)      153728      input_33[0][0]                   \n",
            "__________________________________________________________________________________________________\n",
            "conv1d_33 (Conv1D)              (None, 95, 128)      230528      input_34[0][0]                   \n",
            "__________________________________________________________________________________________________\n",
            "conv1d_34 (Conv1D)              (None, 93, 128)      307328      input_35[0][0]                   \n",
            "__________________________________________________________________________________________________\n",
            "dropout_32 (Dropout)            (None, 97, 128)      0           conv1d_32[0][0]                  \n",
            "__________________________________________________________________________________________________\n",
            "dropout_33 (Dropout)            (None, 95, 128)      0           conv1d_33[0][0]                  \n",
            "__________________________________________________________________________________________________\n",
            "dropout_34 (Dropout)            (None, 93, 128)      0           conv1d_34[0][0]                  \n",
            "__________________________________________________________________________________________________\n",
            "max_pooling1d_32 (MaxPooling1D) (None, 48, 128)      0           dropout_32[0][0]                 \n",
            "__________________________________________________________________________________________________\n",
            "max_pooling1d_33 (MaxPooling1D) (None, 47, 128)      0           dropout_33[0][0]                 \n",
            "__________________________________________________________________________________________________\n",
            "max_pooling1d_34 (MaxPooling1D) (None, 46, 128)      0           dropout_34[0][0]                 \n",
            "__________________________________________________________________________________________________\n",
            "flatten_30 (Flatten)            (None, 6144)         0           max_pooling1d_32[0][0]           \n",
            "__________________________________________________________________________________________________\n",
            "flatten_31 (Flatten)            (None, 6016)         0           max_pooling1d_33[0][0]           \n",
            "__________________________________________________________________________________________________\n",
            "flatten_32 (Flatten)            (None, 5888)         0           max_pooling1d_34[0][0]           \n",
            "__________________________________________________________________________________________________\n",
            "concatenate_10 (Concatenate)    (None, 18048)        0           flatten_30[0][0]                 \n",
            "                                                                 flatten_31[0][0]                 \n",
            "                                                                 flatten_32[0][0]                 \n",
            "__________________________________________________________________________________________________\n",
            "dense_20 (Dense)                (None, 10)           180490      concatenate_10[0][0]             \n",
            "__________________________________________________________________________________________________\n",
            "dense_21 (Dense)                (None, 3)            33          dense_20[0][0]                   \n",
            "==================================================================================================\n",
            "Total params: 872,107\n",
            "Trainable params: 872,107\n",
            "Non-trainable params: 0\n",
            "__________________________________________________________________________________________________\n",
            "None\n"
          ],
          "name": "stdout"
        }
      ]
    },
    {
      "cell_type": "markdown",
      "metadata": {
        "id": "tblb2fQfenMD"
      },
      "source": [
        "## Subtask VI \n",
        "**Training and validation** / **Testing**\n",
        "\n",
        "* Modify code below from Germies to take your training and validation portion of data. Note that x_train and x_dev is used three times each as an input because we have three channels.\n",
        "\n",
        "* Draw plots for accuracy and loss during training and comment how you interpret them. \n",
        "\n",
        "* Finally:  Only apply model to test data once you are sure you won't change it. Evaluate model on all test data. (It's optional to evaluate subsets for individual modal verbs.)"
      ]
    },
    {
      "cell_type": "code",
      "metadata": {
        "id": "Ye4bpA68eaDC",
        "colab": {
          "base_uri": "https://localhost:8080/"
        },
        "outputId": "1c7c4fb4-b7a6-4c83-c040-ed58db2b7b6c"
      },
      "source": [
        "# Training on Train and Dev Set\n",
        "\n",
        "history = model.fit(x = [X_train, X_train, X_train], y = Y_train, validation_data = ([x_val, x_val, x_val], y_val), shuffle = True, epochs = 20, batch_size = 16) #16"
      ],
      "execution_count": null,
      "outputs": [
        {
          "output_type": "stream",
          "text": [
            "Epoch 1/20\n",
            "215/215 [==============================] - 19s 89ms/step - loss: 0.5436 - accuracy: 0.8340 - val_loss: 0.5986 - val_accuracy: 0.8058\n",
            "Epoch 2/20\n",
            "215/215 [==============================] - 19s 87ms/step - loss: 0.2903 - accuracy: 0.9448 - val_loss: 0.5950 - val_accuracy: 0.7930\n",
            "Epoch 3/20\n",
            "215/215 [==============================] - 19s 88ms/step - loss: 0.1626 - accuracy: 0.9869 - val_loss: 0.5596 - val_accuracy: 0.8093\n",
            "Epoch 4/20\n",
            "215/215 [==============================] - 19s 88ms/step - loss: 0.1055 - accuracy: 0.9956 - val_loss: 0.5820 - val_accuracy: 0.8035\n",
            "Epoch 5/20\n",
            "215/215 [==============================] - 19s 87ms/step - loss: 0.0796 - accuracy: 0.9983 - val_loss: 0.5765 - val_accuracy: 0.7953\n",
            "Epoch 6/20\n",
            "215/215 [==============================] - 19s 87ms/step - loss: 0.0639 - accuracy: 0.9988 - val_loss: 0.5781 - val_accuracy: 0.7919\n",
            "Epoch 7/20\n",
            "215/215 [==============================] - 19s 87ms/step - loss: 0.0599 - accuracy: 0.9983 - val_loss: 0.6325 - val_accuracy: 0.7814\n",
            "Epoch 8/20\n",
            "215/215 [==============================] - 19s 87ms/step - loss: 0.0568 - accuracy: 0.9983 - val_loss: 0.6254 - val_accuracy: 0.7988\n",
            "Epoch 9/20\n",
            "215/215 [==============================] - 19s 87ms/step - loss: 0.0612 - accuracy: 0.9953 - val_loss: 0.7648 - val_accuracy: 0.7477\n",
            "Epoch 10/20\n",
            "215/215 [==============================] - 19s 87ms/step - loss: 0.1421 - accuracy: 0.9735 - val_loss: 0.9265 - val_accuracy: 0.7488\n",
            "Epoch 11/20\n",
            "215/215 [==============================] - 19s 87ms/step - loss: 0.1885 - accuracy: 0.9634 - val_loss: 0.8304 - val_accuracy: 0.7698\n",
            "Epoch 12/20\n",
            "215/215 [==============================] - 19s 87ms/step - loss: 0.1220 - accuracy: 0.9840 - val_loss: 0.8089 - val_accuracy: 0.7767\n",
            "Epoch 13/20\n",
            "215/215 [==============================] - 19s 88ms/step - loss: 0.0926 - accuracy: 0.9919 - val_loss: 0.7091 - val_accuracy: 0.7919\n",
            "Epoch 14/20\n",
            "215/215 [==============================] - 19s 88ms/step - loss: 0.0813 - accuracy: 0.9939 - val_loss: 0.6873 - val_accuracy: 0.7919\n",
            "Epoch 15/20\n",
            "215/215 [==============================] - 19s 87ms/step - loss: 0.0689 - accuracy: 0.9968 - val_loss: 0.6671 - val_accuracy: 0.8000\n",
            "Epoch 16/20\n",
            "215/215 [==============================] - 19s 88ms/step - loss: 0.0644 - accuracy: 0.9959 - val_loss: 0.6724 - val_accuracy: 0.7849\n",
            "Epoch 17/20\n",
            "215/215 [==============================] - 19s 88ms/step - loss: 0.0561 - accuracy: 0.9985 - val_loss: 0.6957 - val_accuracy: 0.7698\n",
            "Epoch 18/20\n",
            "215/215 [==============================] - 19s 87ms/step - loss: 0.0523 - accuracy: 0.9977 - val_loss: 0.6798 - val_accuracy: 0.7872\n",
            "Epoch 19/20\n",
            "215/215 [==============================] - 19s 88ms/step - loss: 0.0515 - accuracy: 0.9977 - val_loss: 0.6566 - val_accuracy: 0.7884\n",
            "Epoch 20/20\n",
            "215/215 [==============================] - 19s 88ms/step - loss: 0.0523 - accuracy: 0.9951 - val_loss: 0.6625 - val_accuracy: 0.7965\n"
          ],
          "name": "stdout"
        }
      ]
    },
    {
      "cell_type": "code",
      "metadata": {
        "id": "x0lcJ-2wiXiE",
        "colab": {
          "base_uri": "https://localhost:8080/",
          "height": 295
        },
        "outputId": "c72a397e-4097-45bc-ef1a-b7f231afbb61"
      },
      "source": [
        "# Plot training & validation accuracy values\n",
        "\n",
        "plt.plot(history.history['accuracy'])\n",
        "plt.plot(history.history['val_accuracy'])\n",
        "plt.title('Model accuracy')\n",
        "plt.ylabel('Accuracy')\n",
        "plt.xlabel('Epoch')\n",
        "plt.legend(['Train', 'Test', 'Classes'], loc='lower right')\n",
        "plt.show()\n"
      ],
      "execution_count": null,
      "outputs": [
        {
          "output_type": "display_data",
          "data": {
            "image/png": "[encoded data removed]",
            "text/plain": [
              "<Figure size 432x288 with 1 Axes>"
            ]
          },
          "metadata": {
            "tags": [],
            "needs_background": "light"
          }
        }
      ]
    },
    {
      "cell_type": "code",
      "metadata": {
        "id": "q8cpYIEdid2n",
        "colab": {
          "base_uri": "https://localhost:8080/",
          "height": 295
        },
        "outputId": "9f086e08-1aae-4315-9b00-6109d74570de"
      },
      "source": [
        "# Plot training & validation loss values\n",
        "\n",
        "plt.plot(history.history['loss'])\n",
        "plt.plot(history.history['val_loss'])\n",
        "plt.title('Model loss')\n",
        "plt.ylabel('Loss')\n",
        "plt.xlabel('Epoch')\n",
        "plt.legend(['Train', 'Test'], loc='upper right')\n",
        "plt.show()"
      ],
      "execution_count": null,
      "outputs": [
        {
          "output_type": "display_data",
          "data": {
            "image/png": "[encoded data removed]",
            "text/plain": [
              "<Figure size 432x288 with 1 Axes>"
            ]
          },
          "metadata": {
            "tags": [],
            "needs_background": "light"
          }
        }
      ]
    },
    {
      "cell_type": "code",
      "metadata": {
        "id": "OxH61rrOKgut"
      },
      "source": [
        "# Test"
      ],
      "execution_count": null,
      "outputs": []
    },
    {
      "cell_type": "markdown",
      "metadata": {
        "id": "krgOu7PqQPIJ"
      },
      "source": [
        "# References\n",
        "\n",
        "Germies, J. (2020). On the Generalization Capability of CNN Models for Modal Sense Classification. Manuscript, Ruhr University Bochum. \n",
        "\n",
        "Marasović, A. & Frank, A. (2016). Multilingual modal sense classification using a convolutional neural network. In *Proceedings of the 1st Workshop on Representation Learning for NLP*, pp. 111–120, Berlin, Germany.\n",
        "URL https://www.aclweb.org/anthology/W16-1613  \n",
        "\n",
        "Marasović, A., Zhou, M., & Frank, A. (2019). ”The MSC Data Set”. URL\n",
        "https://doi.org/10.11588/data/JEESIQ, heiDATA, V1.\n"
      ]
    }
  ]
}